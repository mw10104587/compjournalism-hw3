{
 "cells": [
  {
   "cell_type": "code",
   "execution_count": 1,
   "metadata": {
    "collapsed": false
   },
   "outputs": [
    {
     "name": "stdout",
     "output_type": "stream",
     "text": [
      "\n",
      "The downloaded binary packages are in\n",
      "\t/var/folders/nj/mmt3l4jn1_zgg7b7ft_hk4nc0000gq/T//RtmpWlgeuY/downloaded_packages\n"
     ]
    }
   ],
   "source": [
    "install.packages(\"rstan\", repos = \"https://cloud.r-project.org/\", dependencies=TRUE)"
   ]
  },
  {
   "cell_type": "code",
   "execution_count": 14,
   "metadata": {
    "collapsed": false
   },
   "outputs": [
    {
     "name": "stderr",
     "output_type": "stream",
     "text": [
      "\n",
      "Attaching package: ‘dplyr’\n",
      "\n",
      "The following objects are masked from ‘package:stats’:\n",
      "\n",
      "    filter, lag\n",
      "\n",
      "The following objects are masked from ‘package:base’:\n",
      "\n",
      "    intersect, setdiff, setequal, union\n",
      "\n",
      "Warning message:\n",
      ": package ‘rstan’ was built under R version 3.2.5Loading required package: ggplot2\n",
      "Warning message:\n",
      ": package ‘ggplot2’ was built under R version 3.2.4Loading required package: StanHeaders\n",
      "Warning message:\n",
      ": package ‘StanHeaders’ was built under R version 3.2.5rstan (Version 2.12.1, packaged: 2016-09-11 13:07:50 UTC, GitRev: 85f7a56811da)\n",
      "For execution on a local, multicore CPU with excess RAM we recommend calling\n",
      "rstan_options(auto_write = TRUE)\n",
      "options(mc.cores = parallel::detectCores())\n"
     ]
    }
   ],
   "source": [
    "library(dplyr)\n",
    "library(rstan)"
   ]
  },
  {
   "cell_type": "code",
   "execution_count": 15,
   "metadata": {
    "collapsed": true
   },
   "outputs": [],
   "source": [
    "library(lubridate)"
   ]
  },
  {
   "cell_type": "code",
   "execution_count": 5,
   "metadata": {
    "collapsed": false
   },
   "outputs": [
    {
     "data": {
      "text/html": [
       "<table>\n",
       "<thead><tr><th></th><th scope=col>X</th><th scope=col>Y</th><th scope=col>year</th><th scope=col>pct</th><th scope=col>ser_num</th><th scope=col>datestop</th><th scope=col>timestop</th><th scope=col>recstat</th><th scope=col>inout</th><th scope=col>trhsloc</th><th scope=col>ellip.h</th><th scope=col>addrpct</th><th scope=col>sector</th><th scope=col>beat</th><th scope=col>post</th><th scope=col>xcoord</th><th scope=col>ycoord</th><th scope=col>dettypcm</th><th scope=col>linecm</th><th scope=col>detailcm</th><th scope=col>Precinct</th></tr></thead>\n",
       "<tbody>\n",
       "\t<tr><th scope=row>1</th><td>-73.83245</td><td>40.69955</td><td>2011</td><td>102</td><td>185</td><td>1012011</td><td>0</td><td>A</td><td>O</td><td>P</td><td>⋯</td><td>102</td><td>B</td><td></td><td>NA</td><td>1030708</td><td>194185</td><td>CM</td><td>1</td><td>14</td><td>102</td></tr>\n",
       "\t<tr><th scope=row>2</th><td>-73.86627</td><td>40.75278</td><td>2011</td><td>115</td><td>50</td><td>1012011</td><td>5</td><td>A</td><td>O</td><td>P</td><td>⋯</td><td>115</td><td>I</td><td></td><td>NA</td><td>1021302</td><td>213563</td><td>CM</td><td>1</td><td>85</td><td>115</td></tr>\n",
       "\t<tr><th scope=row>3</th><td>-73.80767</td><td>40.58797</td><td>2011</td><td>100</td><td>4</td><td>1012011</td><td>7</td><td>1</td><td>O</td><td>H</td><td>⋯</td><td>100</td><td>B</td><td>4</td><td>34</td><td>1037668</td><td>153549</td><td>CM</td><td>1</td><td>20</td><td>100</td></tr>\n",
       "\t<tr><th scope=row>4</th><td>-73.80767</td><td>40.58797</td><td>2011</td><td>100</td><td>3</td><td>1012011</td><td>7</td><td>1</td><td>O</td><td>H</td><td>⋯</td><td>100</td><td>B</td><td>4</td><td>34</td><td>1037668</td><td>153549</td><td>CM</td><td>1</td><td>20</td><td>100</td></tr>\n",
       "\t<tr><th scope=row>5</th><td>-73.80767</td><td>40.58797</td><td>2011</td><td>100</td><td>1</td><td>1012011</td><td>7</td><td>1</td><td>O</td><td>H</td><td>⋯</td><td>100</td><td>B</td><td>4</td><td>34</td><td>1037668</td><td>153549</td><td>CM</td><td>1</td><td>20</td><td>100</td></tr>\n",
       "\t<tr><th scope=row>6</th><td>-73.80767</td><td>40.58797</td><td>2011</td><td>100</td><td>2</td><td>1012011</td><td>7</td><td>1</td><td>O</td><td>H</td><td>⋯</td><td>100</td><td>B</td><td>4</td><td>34</td><td>1037668</td><td>153549</td><td>CM</td><td>1</td><td>20</td><td>100</td></tr>\n",
       "</tbody>\n",
       "</table>\n"
      ],
      "text/latex": [
       "\\begin{tabular}{r|lllllllllllllllllllllllllllllllllllllllllllllllllllllllllllllllllllllllllllllllllllllllllllllllllllllllllllllllllll}\n",
       "  & X & Y & year & pct & ser_num & datestop & timestop & recstat & inout & trhsloc & ellip.h & addrpct & sector & beat & post & xcoord & ycoord & dettypcm & linecm & detailcm & Precinct\\\\\n",
       "\\hline\n",
       "\t1 & -73.83245 & 40.69955 & 2011 & 102 & 185 & 1012011 & 0 & A & O & P & ⋯ & 102 & B &  & NA & 1030708 & 194185 & CM & 1 & 14 & 102\\\\\n",
       "\t2 & -73.86627 & 40.75278 & 2011 & 115 & 50 & 1012011 & 5 & A & O & P & ⋯ & 115 & I &  & NA & 1021302 & 213563 & CM & 1 & 85 & 115\\\\\n",
       "\t3 & -73.80767 & 40.58797 & 2011 & 100 & 4 & 1012011 & 7 & 1 & O & H & ⋯ & 100 & B & 4 & 34 & 1037668 & 153549 & CM & 1 & 20 & 100\\\\\n",
       "\t4 & -73.80767 & 40.58797 & 2011 & 100 & 3 & 1012011 & 7 & 1 & O & H & ⋯ & 100 & B & 4 & 34 & 1037668 & 153549 & CM & 1 & 20 & 100\\\\\n",
       "\t5 & -73.80767 & 40.58797 & 2011 & 100 & 1 & 1012011 & 7 & 1 & O & H & ⋯ & 100 & B & 4 & 34 & 1037668 & 153549 & CM & 1 & 20 & 100\\\\\n",
       "\t6 & -73.80767 & 40.58797 & 2011 & 100 & 2 & 1012011 & 7 & 1 & O & H & ⋯ & 100 & B & 4 & 34 & 1037668 & 153549 & CM & 1 & 20 & 100\\\\\n",
       "\\end{tabular}\n"
      ],
      "text/plain": [
       "          X        Y year pct ser_num datestop timestop recstat inout trhsloc\n",
       "1 -73.83245 40.69955 2011 102     185  1012011        0       A     O       P\n",
       "2 -73.86627 40.75278 2011 115      50  1012011        5       A     O       P\n",
       "3 -73.80767 40.58797 2011 100       4  1012011        7       1     O       H\n",
       "4 -73.80767 40.58797 2011 100       3  1012011        7       1     O       H\n",
       "5 -73.80767 40.58797 2011 100       1  1012011        7       1     O       H\n",
       "6 -73.80767 40.58797 2011 100       2  1012011        7       1     O       H\n",
       "  perobs crimsusp perstop typeofid explnstp othpers arstmade arstoffn sumissue\n",
       "1      1 BURGLARY       6        V        Y       N        N                 N\n",
       "2      1      FEL       2        V        Y       N        N                 N\n",
       "3      1      CPW       2        V        Y       Y        N                 N\n",
       "4      1      CPW       2        V        Y       Y        N                 N\n",
       "5      1      CPW       2        V        Y       Y        N                 N\n",
       "6      1      CPW       2        V        Y       Y        N                 N\n",
       "  sumoffen compyear comppct offunif officrid frisked searched contrabn adtlrept\n",
       "1                 0       0       N                Y        N        N        N\n",
       "2                 0       0       N                Y        N        N        N\n",
       "3                 0       0       Y                Y        N        N        N\n",
       "4                 0       0       Y                Y        N        N        N\n",
       "5                 0       0       Y                Y        N        N        N\n",
       "6                 0       0       Y                Y        N        N        N\n",
       "  pistol riflshot asltweap knifcuti machgun othrweap pf_hands pf_wall pf_grnd\n",
       "1      N        N        N        N       N        N        Y       N       N\n",
       "2      N        N        N        N       N        N        N       N       N\n",
       "3      N        N        N        N       N        N        Y       Y       N\n",
       "4      N        N        N        N       N        N        Y       N       N\n",
       "5      N        N        N        N       N        N        Y       N       N\n",
       "6      N        N        N        N       N        N        Y       Y       N\n",
       "  pf_drwep pf_ptwep pf_baton pf_hcuff pf_pepsp pf_other radio ac_rept ac_inves\n",
       "1        N        N        N        N        N        N     N       N        N\n",
       "2        N        N        N        N        N        N     N       N        N\n",
       "3        N        N        N        N        N        N     N       N        N\n",
       "4        N        N        N        N        N        N     N       N        N\n",
       "5        N        N        N        N        N        N     N       N        N\n",
       "6        N        N        N        N        N        N     N       N        N\n",
       "  rf_vcrim rf_othsw ac_proxm rf_attir cs_objcs cs_descr cs_casng cs_lkout\n",
       "1        N        N        N        Y        N        N        Y        N\n",
       "2        N        N        N        N        N        N        Y        N\n",
       "3        Y        N        Y        N        N        N        N        N\n",
       "4        Y        N        Y        N        N        N        N        N\n",
       "5        Y        N        Y        N        N        N        N        N\n",
       "6        Y        N        Y        N        N        N        N        N\n",
       "  rf_vcact cs_cloth cs_drgtr ac_evasv ac_assoc cs_furtv rf_rfcmp ac_cgdir\n",
       "1        N        N        N        N        N        N        N        N\n",
       "2        N        N        N        N        N        Y        N        N\n",
       "3        N        N        N        N        N        Y        N        Y\n",
       "4        N        N        N        N        N        Y        N        Y\n",
       "5        N        N        N        Y        N        Y        Y        Y\n",
       "6        N        N        N        N        N        Y        N        Y\n",
       "  rf_verbl cs_vcrim cs_bulge cs_other ac_incid ac_time rf_knowl ac_stsnd\n",
       "1        N        N        N        N        Y       Y        N        N\n",
       "2        N        N        N        N        Y       N        N        N\n",
       "3        N        N        N        Y        N       Y        N        N\n",
       "4        N        N        N        Y        N       Y        N        N\n",
       "5        N        N        N        Y        N       Y        Y        N\n",
       "6        N        N        N        Y        N       Y        Y        N\n",
       "  ac_other sb_hdobj sb_outln sb_admis sb_other repcmd revcmd rf_furt rf_bulg\n",
       "1        N        N        N        N        N    102    102       Y       N\n",
       "2        N        N        N        N        N    115    115       Y       N\n",
       "3        N        N        N        N        N    100    100       Y       N\n",
       "4        N        N        N        N        N    100    100       N       N\n",
       "5        N        N        N        N        N    100    100       N       N\n",
       "6        N        N        N        N        N    100    100       N       N\n",
       "  offverb offshld forceuse sex race     dob age ht_feet ht_inch weight haircolr\n",
       "1               S       NA   M    A 9121989  21       5       8    182       BK\n",
       "2       V       S       NA   M    B 7011995  15       5       6    140       BK\n",
       "3                       NA   M    B 3151993  17       5       7    130       BK\n",
       "4                       NA   M    B 3201993  17       5       7    130       BK\n",
       "5                       NA   M    B 9011990  20       6       3    185       BK\n",
       "6                       NA   M    B 9161993  17       5       6    150       BK\n",
       "  eyecolor build othfeatr addrtyp rescode premtype premname addrnum\n",
       "1       BR     M       NA       R      NA       NA   STREET        \n",
       "2       BR     M       NA       R      NA       NA   STREET        \n",
       "3       BR     T       NA       R      NA       NA    NYCHA   81-04\n",
       "4       BR     T       NA       R      NA       NA    NYCHA   81-04\n",
       "5       BR     M       NA       R      NA       NA    NYCHA   81-04\n",
       "6       BR     T       NA       R      NA       NA    NYCHA   81-04\n",
       "          stname         stinter         crossst aptnum   city state zip\n",
       "1                 JAMAICA AVENUE      117 STREET     NA QUEENS    NA  NA\n",
       "2                      37 AVENUE      101 STREET     NA QUEENS    NA  NA\n",
       "3 ROCKAWAY BEACH BEACH 81 STREET BEACH 81 STREET     NA QUEENS    NA  NA\n",
       "4 ROCKAWAY BEACH BEACH 81 STREET BEACH 81 STREET     NA QUEENS    NA  NA\n",
       "5 ROCKAWAY BEACH BEACH 81 STREET BEACH 81 STREET     NA QUEENS    NA  NA\n",
       "6 ROCKAWAY BEACH BEACH 81 STREET BEACH 81 STREET     NA QUEENS    NA  NA\n",
       "  addrpct sector beat post  xcoord ycoord dettypcm linecm detailcm Precinct\n",
       "1     102      B        NA 1030708 194185       CM      1       14      102\n",
       "2     115      I        NA 1021302 213563       CM      1       85      115\n",
       "3     100      B    4   34 1037668 153549       CM      1       20      100\n",
       "4     100      B    4   34 1037668 153549       CM      1       20      100\n",
       "5     100      B    4   34 1037668 153549       CM      1       20      100\n",
       "6     100      B    4   34 1037668 153549       CM      1       20      100"
      ]
     },
     "execution_count": 5,
     "metadata": {},
     "output_type": "execute_result"
    }
   ],
   "source": [
    "ps = read.csv('./data/Stops2011WithPrecinct.csv')\n",
    "head(ps)"
   ]
  },
  {
   "cell_type": "code",
   "execution_count": 6,
   "metadata": {
    "collapsed": false
   },
   "outputs": [
    {
     "data": {
      "text/html": [
       "<ol class=list-inline>\n",
       "\t<li>'X'</li>\n",
       "\t<li>'Y'</li>\n",
       "\t<li>'year'</li>\n",
       "\t<li>'pct'</li>\n",
       "\t<li>'ser_num'</li>\n",
       "\t<li>'datestop'</li>\n",
       "\t<li>'timestop'</li>\n",
       "\t<li>'recstat'</li>\n",
       "\t<li>'inout'</li>\n",
       "\t<li>'trhsloc'</li>\n",
       "\t<li>'perobs'</li>\n",
       "\t<li>'crimsusp'</li>\n",
       "\t<li>'perstop'</li>\n",
       "\t<li>'typeofid'</li>\n",
       "\t<li>'explnstp'</li>\n",
       "\t<li>'othpers'</li>\n",
       "\t<li>'arstmade'</li>\n",
       "\t<li>'arstoffn'</li>\n",
       "\t<li>'sumissue'</li>\n",
       "\t<li>'sumoffen'</li>\n",
       "\t<li>'compyear'</li>\n",
       "\t<li>'comppct'</li>\n",
       "\t<li>'offunif'</li>\n",
       "\t<li>'officrid'</li>\n",
       "\t<li>'frisked'</li>\n",
       "\t<li>'searched'</li>\n",
       "\t<li>'contrabn'</li>\n",
       "\t<li>'adtlrept'</li>\n",
       "\t<li>'pistol'</li>\n",
       "\t<li>'riflshot'</li>\n",
       "\t<li>'asltweap'</li>\n",
       "\t<li>'knifcuti'</li>\n",
       "\t<li>'machgun'</li>\n",
       "\t<li>'othrweap'</li>\n",
       "\t<li>'pf_hands'</li>\n",
       "\t<li>'pf_wall'</li>\n",
       "\t<li>'pf_grnd'</li>\n",
       "\t<li>'pf_drwep'</li>\n",
       "\t<li>'pf_ptwep'</li>\n",
       "\t<li>'pf_baton'</li>\n",
       "\t<li>'pf_hcuff'</li>\n",
       "\t<li>'pf_pepsp'</li>\n",
       "\t<li>'pf_other'</li>\n",
       "\t<li>'radio'</li>\n",
       "\t<li>'ac_rept'</li>\n",
       "\t<li>'ac_inves'</li>\n",
       "\t<li>'rf_vcrim'</li>\n",
       "\t<li>'rf_othsw'</li>\n",
       "\t<li>'ac_proxm'</li>\n",
       "\t<li>'rf_attir'</li>\n",
       "\t<li>'cs_objcs'</li>\n",
       "\t<li>'cs_descr'</li>\n",
       "\t<li>'cs_casng'</li>\n",
       "\t<li>'cs_lkout'</li>\n",
       "\t<li>'rf_vcact'</li>\n",
       "\t<li>'cs_cloth'</li>\n",
       "\t<li>'cs_drgtr'</li>\n",
       "\t<li>'ac_evasv'</li>\n",
       "\t<li>'ac_assoc'</li>\n",
       "\t<li>'cs_furtv'</li>\n",
       "\t<li>'rf_rfcmp'</li>\n",
       "\t<li>'ac_cgdir'</li>\n",
       "\t<li>'rf_verbl'</li>\n",
       "\t<li>'cs_vcrim'</li>\n",
       "\t<li>'cs_bulge'</li>\n",
       "\t<li>'cs_other'</li>\n",
       "\t<li>'ac_incid'</li>\n",
       "\t<li>'ac_time'</li>\n",
       "\t<li>'rf_knowl'</li>\n",
       "\t<li>'ac_stsnd'</li>\n",
       "\t<li>'ac_other'</li>\n",
       "\t<li>'sb_hdobj'</li>\n",
       "\t<li>'sb_outln'</li>\n",
       "\t<li>'sb_admis'</li>\n",
       "\t<li>'sb_other'</li>\n",
       "\t<li>'repcmd'</li>\n",
       "\t<li>'revcmd'</li>\n",
       "\t<li>'rf_furt'</li>\n",
       "\t<li>'rf_bulg'</li>\n",
       "\t<li>'offverb'</li>\n",
       "\t<li>'offshld'</li>\n",
       "\t<li>'forceuse'</li>\n",
       "\t<li>'sex'</li>\n",
       "\t<li>'race'</li>\n",
       "\t<li>'dob'</li>\n",
       "\t<li>'age'</li>\n",
       "\t<li>'ht_feet'</li>\n",
       "\t<li>'ht_inch'</li>\n",
       "\t<li>'weight'</li>\n",
       "\t<li>'haircolr'</li>\n",
       "\t<li>'eyecolor'</li>\n",
       "\t<li>'build'</li>\n",
       "\t<li>'othfeatr'</li>\n",
       "\t<li>'addrtyp'</li>\n",
       "\t<li>'rescode'</li>\n",
       "\t<li>'premtype'</li>\n",
       "\t<li>'premname'</li>\n",
       "\t<li>'addrnum'</li>\n",
       "\t<li>'stname'</li>\n",
       "\t<li>'stinter'</li>\n",
       "\t<li>'crossst'</li>\n",
       "\t<li>'aptnum'</li>\n",
       "\t<li>'city'</li>\n",
       "\t<li>'state'</li>\n",
       "\t<li>'zip'</li>\n",
       "\t<li>'addrpct'</li>\n",
       "\t<li>'sector'</li>\n",
       "\t<li>'beat'</li>\n",
       "\t<li>'post'</li>\n",
       "\t<li>'xcoord'</li>\n",
       "\t<li>'ycoord'</li>\n",
       "\t<li>'dettypcm'</li>\n",
       "\t<li>'linecm'</li>\n",
       "\t<li>'detailcm'</li>\n",
       "\t<li>'Precinct'</li>\n",
       "</ol>\n"
      ],
      "text/latex": [
       "\\begin{enumerate*}\n",
       "\\item 'X'\n",
       "\\item 'Y'\n",
       "\\item 'year'\n",
       "\\item 'pct'\n",
       "\\item 'ser_num'\n",
       "\\item 'datestop'\n",
       "\\item 'timestop'\n",
       "\\item 'recstat'\n",
       "\\item 'inout'\n",
       "\\item 'trhsloc'\n",
       "\\item 'perobs'\n",
       "\\item 'crimsusp'\n",
       "\\item 'perstop'\n",
       "\\item 'typeofid'\n",
       "\\item 'explnstp'\n",
       "\\item 'othpers'\n",
       "\\item 'arstmade'\n",
       "\\item 'arstoffn'\n",
       "\\item 'sumissue'\n",
       "\\item 'sumoffen'\n",
       "\\item 'compyear'\n",
       "\\item 'comppct'\n",
       "\\item 'offunif'\n",
       "\\item 'officrid'\n",
       "\\item 'frisked'\n",
       "\\item 'searched'\n",
       "\\item 'contrabn'\n",
       "\\item 'adtlrept'\n",
       "\\item 'pistol'\n",
       "\\item 'riflshot'\n",
       "\\item 'asltweap'\n",
       "\\item 'knifcuti'\n",
       "\\item 'machgun'\n",
       "\\item 'othrweap'\n",
       "\\item 'pf_hands'\n",
       "\\item 'pf_wall'\n",
       "\\item 'pf_grnd'\n",
       "\\item 'pf_drwep'\n",
       "\\item 'pf_ptwep'\n",
       "\\item 'pf_baton'\n",
       "\\item 'pf_hcuff'\n",
       "\\item 'pf_pepsp'\n",
       "\\item 'pf_other'\n",
       "\\item 'radio'\n",
       "\\item 'ac_rept'\n",
       "\\item 'ac_inves'\n",
       "\\item 'rf_vcrim'\n",
       "\\item 'rf_othsw'\n",
       "\\item 'ac_proxm'\n",
       "\\item 'rf_attir'\n",
       "\\item 'cs_objcs'\n",
       "\\item 'cs_descr'\n",
       "\\item 'cs_casng'\n",
       "\\item 'cs_lkout'\n",
       "\\item 'rf_vcact'\n",
       "\\item 'cs_cloth'\n",
       "\\item 'cs_drgtr'\n",
       "\\item 'ac_evasv'\n",
       "\\item 'ac_assoc'\n",
       "\\item 'cs_furtv'\n",
       "\\item 'rf_rfcmp'\n",
       "\\item 'ac_cgdir'\n",
       "\\item 'rf_verbl'\n",
       "\\item 'cs_vcrim'\n",
       "\\item 'cs_bulge'\n",
       "\\item 'cs_other'\n",
       "\\item 'ac_incid'\n",
       "\\item 'ac_time'\n",
       "\\item 'rf_knowl'\n",
       "\\item 'ac_stsnd'\n",
       "\\item 'ac_other'\n",
       "\\item 'sb_hdobj'\n",
       "\\item 'sb_outln'\n",
       "\\item 'sb_admis'\n",
       "\\item 'sb_other'\n",
       "\\item 'repcmd'\n",
       "\\item 'revcmd'\n",
       "\\item 'rf_furt'\n",
       "\\item 'rf_bulg'\n",
       "\\item 'offverb'\n",
       "\\item 'offshld'\n",
       "\\item 'forceuse'\n",
       "\\item 'sex'\n",
       "\\item 'race'\n",
       "\\item 'dob'\n",
       "\\item 'age'\n",
       "\\item 'ht_feet'\n",
       "\\item 'ht_inch'\n",
       "\\item 'weight'\n",
       "\\item 'haircolr'\n",
       "\\item 'eyecolor'\n",
       "\\item 'build'\n",
       "\\item 'othfeatr'\n",
       "\\item 'addrtyp'\n",
       "\\item 'rescode'\n",
       "\\item 'premtype'\n",
       "\\item 'premname'\n",
       "\\item 'addrnum'\n",
       "\\item 'stname'\n",
       "\\item 'stinter'\n",
       "\\item 'crossst'\n",
       "\\item 'aptnum'\n",
       "\\item 'city'\n",
       "\\item 'state'\n",
       "\\item 'zip'\n",
       "\\item 'addrpct'\n",
       "\\item 'sector'\n",
       "\\item 'beat'\n",
       "\\item 'post'\n",
       "\\item 'xcoord'\n",
       "\\item 'ycoord'\n",
       "\\item 'dettypcm'\n",
       "\\item 'linecm'\n",
       "\\item 'detailcm'\n",
       "\\item 'Precinct'\n",
       "\\end{enumerate*}\n"
      ],
      "text/markdown": [
       "1. 'X'\n",
       "2. 'Y'\n",
       "3. 'year'\n",
       "4. 'pct'\n",
       "5. 'ser_num'\n",
       "6. 'datestop'\n",
       "7. 'timestop'\n",
       "8. 'recstat'\n",
       "9. 'inout'\n",
       "10. 'trhsloc'\n",
       "11. 'perobs'\n",
       "12. 'crimsusp'\n",
       "13. 'perstop'\n",
       "14. 'typeofid'\n",
       "15. 'explnstp'\n",
       "16. 'othpers'\n",
       "17. 'arstmade'\n",
       "18. 'arstoffn'\n",
       "19. 'sumissue'\n",
       "20. 'sumoffen'\n",
       "21. 'compyear'\n",
       "22. 'comppct'\n",
       "23. 'offunif'\n",
       "24. 'officrid'\n",
       "25. 'frisked'\n",
       "26. 'searched'\n",
       "27. 'contrabn'\n",
       "28. 'adtlrept'\n",
       "29. 'pistol'\n",
       "30. 'riflshot'\n",
       "31. 'asltweap'\n",
       "32. 'knifcuti'\n",
       "33. 'machgun'\n",
       "34. 'othrweap'\n",
       "35. 'pf_hands'\n",
       "36. 'pf_wall'\n",
       "37. 'pf_grnd'\n",
       "38. 'pf_drwep'\n",
       "39. 'pf_ptwep'\n",
       "40. 'pf_baton'\n",
       "41. 'pf_hcuff'\n",
       "42. 'pf_pepsp'\n",
       "43. 'pf_other'\n",
       "44. 'radio'\n",
       "45. 'ac_rept'\n",
       "46. 'ac_inves'\n",
       "47. 'rf_vcrim'\n",
       "48. 'rf_othsw'\n",
       "49. 'ac_proxm'\n",
       "50. 'rf_attir'\n",
       "51. 'cs_objcs'\n",
       "52. 'cs_descr'\n",
       "53. 'cs_casng'\n",
       "54. 'cs_lkout'\n",
       "55. 'rf_vcact'\n",
       "56. 'cs_cloth'\n",
       "57. 'cs_drgtr'\n",
       "58. 'ac_evasv'\n",
       "59. 'ac_assoc'\n",
       "60. 'cs_furtv'\n",
       "61. 'rf_rfcmp'\n",
       "62. 'ac_cgdir'\n",
       "63. 'rf_verbl'\n",
       "64. 'cs_vcrim'\n",
       "65. 'cs_bulge'\n",
       "66. 'cs_other'\n",
       "67. 'ac_incid'\n",
       "68. 'ac_time'\n",
       "69. 'rf_knowl'\n",
       "70. 'ac_stsnd'\n",
       "71. 'ac_other'\n",
       "72. 'sb_hdobj'\n",
       "73. 'sb_outln'\n",
       "74. 'sb_admis'\n",
       "75. 'sb_other'\n",
       "76. 'repcmd'\n",
       "77. 'revcmd'\n",
       "78. 'rf_furt'\n",
       "79. 'rf_bulg'\n",
       "80. 'offverb'\n",
       "81. 'offshld'\n",
       "82. 'forceuse'\n",
       "83. 'sex'\n",
       "84. 'race'\n",
       "85. 'dob'\n",
       "86. 'age'\n",
       "87. 'ht_feet'\n",
       "88. 'ht_inch'\n",
       "89. 'weight'\n",
       "90. 'haircolr'\n",
       "91. 'eyecolor'\n",
       "92. 'build'\n",
       "93. 'othfeatr'\n",
       "94. 'addrtyp'\n",
       "95. 'rescode'\n",
       "96. 'premtype'\n",
       "97. 'premname'\n",
       "98. 'addrnum'\n",
       "99. 'stname'\n",
       "100. 'stinter'\n",
       "101. 'crossst'\n",
       "102. 'aptnum'\n",
       "103. 'city'\n",
       "104. 'state'\n",
       "105. 'zip'\n",
       "106. 'addrpct'\n",
       "107. 'sector'\n",
       "108. 'beat'\n",
       "109. 'post'\n",
       "110. 'xcoord'\n",
       "111. 'ycoord'\n",
       "112. 'dettypcm'\n",
       "113. 'linecm'\n",
       "114. 'detailcm'\n",
       "115. 'Precinct'\n",
       "\n",
       "\n"
      ],
      "text/plain": [
       "  [1] \"X\"        \"Y\"        \"year\"     \"pct\"      \"ser_num\"  \"datestop\"\n",
       "  [7] \"timestop\" \"recstat\"  \"inout\"    \"trhsloc\"  \"perobs\"   \"crimsusp\"\n",
       " [13] \"perstop\"  \"typeofid\" \"explnstp\" \"othpers\"  \"arstmade\" \"arstoffn\"\n",
       " [19] \"sumissue\" \"sumoffen\" \"compyear\" \"comppct\"  \"offunif\"  \"officrid\"\n",
       " [25] \"frisked\"  \"searched\" \"contrabn\" \"adtlrept\" \"pistol\"   \"riflshot\"\n",
       " [31] \"asltweap\" \"knifcuti\" \"machgun\"  \"othrweap\" \"pf_hands\" \"pf_wall\" \n",
       " [37] \"pf_grnd\"  \"pf_drwep\" \"pf_ptwep\" \"pf_baton\" \"pf_hcuff\" \"pf_pepsp\"\n",
       " [43] \"pf_other\" \"radio\"    \"ac_rept\"  \"ac_inves\" \"rf_vcrim\" \"rf_othsw\"\n",
       " [49] \"ac_proxm\" \"rf_attir\" \"cs_objcs\" \"cs_descr\" \"cs_casng\" \"cs_lkout\"\n",
       " [55] \"rf_vcact\" \"cs_cloth\" \"cs_drgtr\" \"ac_evasv\" \"ac_assoc\" \"cs_furtv\"\n",
       " [61] \"rf_rfcmp\" \"ac_cgdir\" \"rf_verbl\" \"cs_vcrim\" \"cs_bulge\" \"cs_other\"\n",
       " [67] \"ac_incid\" \"ac_time\"  \"rf_knowl\" \"ac_stsnd\" \"ac_other\" \"sb_hdobj\"\n",
       " [73] \"sb_outln\" \"sb_admis\" \"sb_other\" \"repcmd\"   \"revcmd\"   \"rf_furt\" \n",
       " [79] \"rf_bulg\"  \"offverb\"  \"offshld\"  \"forceuse\" \"sex\"      \"race\"    \n",
       " [85] \"dob\"      \"age\"      \"ht_feet\"  \"ht_inch\"  \"weight\"   \"haircolr\"\n",
       " [91] \"eyecolor\" \"build\"    \"othfeatr\" \"addrtyp\"  \"rescode\"  \"premtype\"\n",
       " [97] \"premname\" \"addrnum\"  \"stname\"   \"stinter\"  \"crossst\"  \"aptnum\"  \n",
       "[103] \"city\"     \"state\"    \"zip\"      \"addrpct\"  \"sector\"   \"beat\"    \n",
       "[109] \"post\"     \"xcoord\"   \"ycoord\"   \"dettypcm\" \"linecm\"   \"detailcm\"\n",
       "[115] \"Precinct\""
      ]
     },
     "execution_count": 6,
     "metadata": {},
     "output_type": "execute_result"
    }
   ],
   "source": [
    "# get the mapping column names that we need to fit the model\n",
    "threshold_test_colnames <- c('pct','sex','age','race','datestop','timestop','searched','contrabn','riflshot',\n",
    "                             'asltweap','pistol','knifcuti')\n",
    "\n",
    "colnames(ps)"
   ]
  },
  {
   "cell_type": "code",
   "execution_count": 5,
   "metadata": {
    "collapsed": true
   },
   "outputs": [],
   "source": [
    "# 'police_department' 'gender' 'age' 'race' 'stop_date' 'stop_time' 'search_conducted' 'contraband_found' \n",
    "# 'money' 'weapon' 'alcohol' 'drugs'"
   ]
  },
  {
   "cell_type": "code",
   "execution_count": 51,
   "metadata": {
    "collapsed": true
   },
   "outputs": [],
   "source": [
    "# init ps2\n",
    "ps2 <- ps[threshold_test_colnames]"
   ]
  },
  {
   "cell_type": "code",
   "execution_count": 52,
   "metadata": {
    "collapsed": false
   },
   "outputs": [
    {
     "data": {
      "text/plain": [
       "\n",
       "     A      B      I      P      Q      U      W      Z \n",
       " 23000 339094   2771  46641 168887   5501  58493  16310 "
      ]
     },
     "execution_count": 52,
     "metadata": {},
     "output_type": "execute_result"
    }
   ],
   "source": [
    "table(ps2$race)"
   ]
  },
  {
   "cell_type": "code",
   "execution_count": 53,
   "metadata": {
    "collapsed": false
   },
   "outputs": [
    {
     "data": {
      "text/html": [
       "<ol class=list-inline>\n",
       "\t<li>636115</li>\n",
       "\t<li>12</li>\n",
       "</ol>\n"
      ],
      "text/latex": [
       "\\begin{enumerate*}\n",
       "\\item 636115\n",
       "\\item 12\n",
       "\\end{enumerate*}\n"
      ],
      "text/markdown": [
       "1. 636115\n",
       "2. 12\n",
       "\n",
       "\n"
      ],
      "text/plain": [
       "[1] 636115     12"
      ]
     },
     "execution_count": 53,
     "metadata": {},
     "output_type": "execute_result"
    }
   ],
   "source": [
    "# aggregate hispanics\n",
    "ps2$race[ps2$race == \"P\"] <- \"Q\"\n",
    "\n",
    "# remove race that are too minor\n",
    "ps2 <- ps2[(ps2$race == \"A\" | ps2$race == \"B\" | ps2$race == \"Q\" | ps2$race == \"W\"),]\n",
    "dim(ps2)"
   ]
  },
  {
   "cell_type": "code",
   "execution_count": 54,
   "metadata": {
    "collapsed": false
   },
   "outputs": [
    {
     "name": "stdout",
     "output_type": "stream",
     "text": [
      "'data.frame':\t636115 obs. of  12 variables:\n",
      " $ pct     : int  102 115 100 100 100 100 101 70 73 52 ...\n",
      " $ sex     : Factor w/ 3 levels \"F\",\"M\",\"Z\": 2 2 2 2 2 2 2 2 2 2 ...\n",
      " $ age     : int  21 15 17 17 20 17 16 19 35 20 ...\n",
      " $ race    : Factor w/ 8 levels \"A\",\"B\",\"I\",\"P\",..: 1 2 2 2 2 2 2 2 2 5 ...\n",
      " $ datestop: int  1012011 1012011 1012011 1012011 1012011 1012011 1012011 1012011 1012011 1012011 ...\n",
      " $ timestop: int  0 5 7 7 7 7 10 10 10 15 ...\n",
      " $ searched: Factor w/ 2 levels \"N\",\"Y\": 1 1 1 1 1 1 1 1 1 1 ...\n",
      " $ contrabn: Factor w/ 2 levels \"N\",\"Y\": 1 1 1 1 1 1 1 1 1 1 ...\n",
      " $ riflshot: Factor w/ 2 levels \"N\",\"Y\": 1 1 1 1 1 1 1 1 1 1 ...\n",
      " $ asltweap: Factor w/ 2 levels \"N\",\"Y\": 1 1 1 1 1 1 1 1 1 1 ...\n",
      " $ pistol  : Factor w/ 2 levels \"N\",\"Y\": 1 1 1 1 1 1 1 1 1 1 ...\n",
      " $ knifcuti: Factor w/ 2 levels \"N\",\"Y\": 1 1 1 1 1 1 1 1 1 1 ...\n"
     ]
    }
   ],
   "source": [
    "str(ps2)"
   ]
  },
  {
   "cell_type": "code",
   "execution_count": 55,
   "metadata": {
    "collapsed": false
   },
   "outputs": [
    {
     "data": {
      "text/html": [
       "<table>\n",
       "<thead><tr><th></th><th scope=col>police_department</th><th scope=col>gender</th><th scope=col>age</th><th scope=col>race</th><th scope=col>stop_date</th><th scope=col>stop_time</th><th scope=col>search_conducted</th><th scope=col>contraband_found</th><th scope=col>money</th><th scope=col>weapon</th><th scope=col>alcohol</th><th scope=col>drugs</th></tr></thead>\n",
       "<tbody>\n",
       "\t<tr><th scope=row>1</th><td>102</td><td>M</td><td>21</td><td>A</td><td>1012011</td><td>0</td><td>N</td><td>N</td><td>N</td><td>N</td><td>N</td><td>N</td></tr>\n",
       "\t<tr><th scope=row>2</th><td>115</td><td>M</td><td>15</td><td>B</td><td>1012011</td><td>5</td><td>N</td><td>N</td><td>N</td><td>N</td><td>N</td><td>N</td></tr>\n",
       "\t<tr><th scope=row>3</th><td>100</td><td>M</td><td>17</td><td>B</td><td>1012011</td><td>7</td><td>N</td><td>N</td><td>N</td><td>N</td><td>N</td><td>N</td></tr>\n",
       "\t<tr><th scope=row>4</th><td>100</td><td>M</td><td>17</td><td>B</td><td>1012011</td><td>7</td><td>N</td><td>N</td><td>N</td><td>N</td><td>N</td><td>N</td></tr>\n",
       "\t<tr><th scope=row>5</th><td>100</td><td>M</td><td>20</td><td>B</td><td>1012011</td><td>7</td><td>N</td><td>N</td><td>N</td><td>N</td><td>N</td><td>N</td></tr>\n",
       "\t<tr><th scope=row>6</th><td>100</td><td>M</td><td>17</td><td>B</td><td>1012011</td><td>7</td><td>N</td><td>N</td><td>N</td><td>N</td><td>N</td><td>N</td></tr>\n",
       "</tbody>\n",
       "</table>\n"
      ],
      "text/latex": [
       "\\begin{tabular}{r|llllllllllll}\n",
       "  & police_department & gender & age & race & stop_date & stop_time & search_conducted & contraband_found & money & weapon & alcohol & drugs\\\\\n",
       "\\hline\n",
       "\t1 & 102 & M & 21 & A & 1012011 & 0 & N & N & N & N & N & N\\\\\n",
       "\t2 & 115 & M & 15 & B & 1012011 & 5 & N & N & N & N & N & N\\\\\n",
       "\t3 & 100 & M & 17 & B & 1012011 & 7 & N & N & N & N & N & N\\\\\n",
       "\t4 & 100 & M & 17 & B & 1012011 & 7 & N & N & N & N & N & N\\\\\n",
       "\t5 & 100 & M & 20 & B & 1012011 & 7 & N & N & N & N & N & N\\\\\n",
       "\t6 & 100 & M & 17 & B & 1012011 & 7 & N & N & N & N & N & N\\\\\n",
       "\\end{tabular}\n"
      ],
      "text/plain": [
       "  police_department gender age race stop_date stop_time search_conducted\n",
       "1               102      M  21    A   1012011         0                N\n",
       "2               115      M  15    B   1012011         5                N\n",
       "3               100      M  17    B   1012011         7                N\n",
       "4               100      M  17    B   1012011         7                N\n",
       "5               100      M  20    B   1012011         7                N\n",
       "6               100      M  17    B   1012011         7                N\n",
       "  contraband_found money weapon alcohol drugs\n",
       "1                N     N      N       N     N\n",
       "2                N     N      N       N     N\n",
       "3                N     N      N       N     N\n",
       "4                N     N      N       N     N\n",
       "5                N     N      N       N     N\n",
       "6                N     N      N       N     N"
      ]
     },
     "execution_count": 55,
     "metadata": {},
     "output_type": "execute_result"
    }
   ],
   "source": [
    "# update column names\n",
    "colnames(ps2) <- c('police_department','gender','age','race','stop_date','stop_time','search_conducted','contraband_found'\n",
    "                   ,'money','weapon','alcohol','drugs')\n",
    "head(ps2)"
   ]
  },
  {
   "cell_type": "code",
   "execution_count": 56,
   "metadata": {
    "collapsed": false
   },
   "outputs": [],
   "source": [
    "# update column data types to fit the model\n",
    "ps2$contraband_found <- ifelse(ps2$contraband_found == \"Y\", 1, 0)\n",
    "ps2$search_conducted <- ifelse(ps2$search_conducted == \"Y\", 1, 0)\n",
    "ps2$money <- ifelse(ps2$money == \"Y\", 1, 0)\n",
    "ps2$weapon <- ifelse(ps2$weapon == \"Y\", 1, 0)\n",
    "ps2$alcohol <- ifelse(ps2$alcohol == \"Y\", 1, 0)\n",
    "ps2$drugs <- ifelse(ps2$drugs == \"Y\", 1, 0)\n",
    "\n",
    "ps2$contraband_found <- as.logical(ps2$contraband_found)\n",
    "ps2$search_conducted <- as.logical(ps2$search_conducted)\n",
    "ps2$money <- as.logical(ps2$money)\n",
    "ps2$weapon <- as.logical(ps2$weapon)\n",
    "ps2$alcohol <- as.logical(ps2$alcohol)\n",
    "ps2$drugs <- as.logical(ps2$drugs)\n",
    "\n",
    "ps2$stop_time = as.character(ps2$stop_time)\n",
    "ps2$stop_date = as.Date( mdy(ps2$stop_date))\n",
    "\n",
    "# remove unknown gender\n",
    "ps2 <- ps2[(ps2$gender == \"F\" | ps2$gender == \"M\"), ]\n",
    "\n",
    "# remove people older than dataset\n",
    "# 116 is the oldest person ever to live in the states, or at least that's the criteria we want to filter out\n",
    "ps2 <- ps2[ps2$age<=116,]\n",
    "\n",
    "# remove data that found contraband on unsearched people\n",
    "ps2 <- ps2[!(ps2$search_conducted==FALSE & ps2$contraband_found==TRUE),]\n",
    "\n",
    "# refactor the data.frame\n",
    "# ps2 <- as.data.frame(lapply(ps2, function (x) if (is.factor(x)) factor(x) else x)) \n",
    "    \n",
    "# make police dept. a string column again\n",
    "ps2$police_department <- as.character(ps2$police_department)"
   ]
  },
  {
   "cell_type": "code",
   "execution_count": 57,
   "metadata": {
    "collapsed": false
   },
   "outputs": [
    {
     "name": "stdout",
     "output_type": "stream",
     "text": [
      "'data.frame':\t626898 obs. of  12 variables:\n",
      " $ police_department: chr  \"102\" \"115\" \"100\" \"100\" ...\n",
      " $ gender           : Factor w/ 2 levels \"F\",\"M\": 2 2 2 2 2 2 2 2 2 2 ...\n",
      " $ age              : int  21 15 17 17 20 17 16 19 35 20 ...\n",
      " $ race             : Factor w/ 4 levels \"A\",\"B\",\"Q\",\"W\": 1 2 2 2 2 2 2 2 2 3 ...\n",
      " $ stop_date        : Date, format: \"2011-01-01\" \"2011-01-01\" ...\n",
      " $ stop_time        : Factor w/ 1440 levels \"0\",\"1\",\"10\",\"100\",..: 1 1126 1258 1258 1258 1258 3 3 3 358 ...\n",
      " $ search_conducted : logi  FALSE FALSE FALSE FALSE FALSE FALSE ...\n",
      " $ contraband_found : logi  FALSE FALSE FALSE FALSE FALSE FALSE ...\n",
      " $ money            : logi  FALSE FALSE FALSE FALSE FALSE FALSE ...\n",
      " $ weapon           : logi  FALSE FALSE FALSE FALSE FALSE FALSE ...\n",
      " $ alcohol          : logi  FALSE FALSE FALSE FALSE FALSE FALSE ...\n",
      " $ drugs            : logi  FALSE FALSE FALSE FALSE FALSE FALSE ...\n"
     ]
    }
   ],
   "source": [
    "str(ps2)"
   ]
  },
  {
   "cell_type": "code",
   "execution_count": 58,
   "metadata": {
    "collapsed": false
   },
   "outputs": [
    {
     "data": {
      "text/html": [
       "<ol class=list-inline>\n",
       "\t<li>'F'</li>\n",
       "\t<li>'M'</li>\n",
       "</ol>\n"
      ],
      "text/latex": [
       "\\begin{enumerate*}\n",
       "\\item 'F'\n",
       "\\item 'M'\n",
       "\\end{enumerate*}\n"
      ],
      "text/markdown": [
       "1. 'F'\n",
       "2. 'M'\n",
       "\n",
       "\n"
      ],
      "text/plain": [
       "[1] \"F\" \"M\""
      ]
     },
     "execution_count": 58,
     "metadata": {},
     "output_type": "execute_result"
    }
   ],
   "source": [
    "levels(ps2$gender)"
   ]
  },
  {
   "cell_type": "code",
   "execution_count": 59,
   "metadata": {
    "collapsed": false
   },
   "outputs": [],
   "source": [
    "levels(ps2$gender)[1] = \"Female\"\n",
    "levels(ps2$gender)[2] = \"Male\""
   ]
  },
  {
   "cell_type": "code",
   "execution_count": 60,
   "metadata": {
    "collapsed": false
   },
   "outputs": [
    {
     "data": {
      "text/html": [
       "<ol class=list-inline>\n",
       "\t<li>'A'</li>\n",
       "\t<li>'B'</li>\n",
       "\t<li>'Q'</li>\n",
       "\t<li>'W'</li>\n",
       "</ol>\n"
      ],
      "text/latex": [
       "\\begin{enumerate*}\n",
       "\\item 'A'\n",
       "\\item 'B'\n",
       "\\item 'Q'\n",
       "\\item 'W'\n",
       "\\end{enumerate*}\n"
      ],
      "text/markdown": [
       "1. 'A'\n",
       "2. 'B'\n",
       "3. 'Q'\n",
       "4. 'W'\n",
       "\n",
       "\n"
      ],
      "text/plain": [
       "[1] \"A\" \"B\" \"Q\" \"W\""
      ]
     },
     "execution_count": 60,
     "metadata": {},
     "output_type": "execute_result"
    }
   ],
   "source": [
    "levels(ps2$race)"
   ]
  },
  {
   "cell_type": "code",
   "execution_count": 61,
   "metadata": {
    "collapsed": true
   },
   "outputs": [],
   "source": [
    "levels(ps2$race)[1] = \"Asian\"\n",
    "levels(ps2$race)[2] = \"Black\"\n",
    "levels(ps2$race)[3] = \"Hispanic\"\n",
    "levels(ps2$race)[4] = \"White\""
   ]
  },
  {
   "cell_type": "code",
   "execution_count": 62,
   "metadata": {
    "collapsed": false
   },
   "outputs": [
    {
     "data": {
      "text/html": [
       "<ol class=list-inline>\n",
       "\t<li>'Asian'</li>\n",
       "\t<li>'Black'</li>\n",
       "\t<li>'Hispanic'</li>\n",
       "\t<li>'White'</li>\n",
       "</ol>\n"
      ],
      "text/latex": [
       "\\begin{enumerate*}\n",
       "\\item 'Asian'\n",
       "\\item 'Black'\n",
       "\\item 'Hispanic'\n",
       "\\item 'White'\n",
       "\\end{enumerate*}\n"
      ],
      "text/markdown": [
       "1. 'Asian'\n",
       "2. 'Black'\n",
       "3. 'Hispanic'\n",
       "4. 'White'\n",
       "\n",
       "\n"
      ],
      "text/plain": [
       "[1] \"Asian\"    \"Black\"    \"Hispanic\" \"White\"   "
      ]
     },
     "execution_count": 62,
     "metadata": {},
     "output_type": "execute_result"
    }
   ],
   "source": [
    "# levels check\n",
    "levels(ps2$race)"
   ]
  },
  {
   "cell_type": "code",
   "execution_count": 74,
   "metadata": {
    "collapsed": true
   },
   "outputs": [],
   "source": [
    "ps2$race <- factor(ps2$race, levels = c('White','Black','Hispanic','Asian'))"
   ]
  },
  {
   "cell_type": "code",
   "execution_count": 64,
   "metadata": {
    "collapsed": false
   },
   "outputs": [
    {
     "data": {
      "text/html": [
       "<ol class=list-inline>\n",
       "\t<li>'White'</li>\n",
       "\t<li>'Black'</li>\n",
       "\t<li>'Hispanic'</li>\n",
       "\t<li>'Asian'</li>\n",
       "</ol>\n"
      ],
      "text/latex": [
       "\\begin{enumerate*}\n",
       "\\item 'White'\n",
       "\\item 'Black'\n",
       "\\item 'Hispanic'\n",
       "\\item 'Asian'\n",
       "\\end{enumerate*}\n"
      ],
      "text/markdown": [
       "1. 'White'\n",
       "2. 'Black'\n",
       "3. 'Hispanic'\n",
       "4. 'Asian'\n",
       "\n",
       "\n"
      ],
      "text/plain": [
       "[1] \"White\"    \"Black\"    \"Hispanic\" \"Asian\"   "
      ]
     },
     "execution_count": 64,
     "metadata": {},
     "output_type": "execute_result"
    }
   ],
   "source": [
    "# levels check\n",
    "levels(ps2$race)"
   ]
  },
  {
   "cell_type": "code",
   "execution_count": 76,
   "metadata": {
    "collapsed": false
   },
   "outputs": [
    {
     "name": "stdout",
     "output_type": "stream",
     "text": [
      "'data.frame':\t626898 obs. of  12 variables:\n",
      " $ police_department: chr  \"102\" \"115\" \"100\" \"100\" ...\n",
      " $ gender           : Factor w/ 2 levels \"Female\",\"Male\": 2 2 2 2 2 2 2 2 2 2 ...\n",
      " $ age              : int  21 15 17 17 20 17 16 19 35 20 ...\n",
      " $ race             : Factor w/ 4 levels \"White\",\"Black\",..: 4 2 2 2 2 2 2 2 2 3 ...\n",
      " $ stop_date        : Date, format: \"2011-01-01\" \"2011-01-01\" ...\n",
      " $ stop_time        : chr  \"0\" \"5\" \"7\" \"7\" ...\n",
      " $ search_conducted : logi  FALSE FALSE FALSE FALSE FALSE FALSE ...\n",
      " $ contraband_found : logi  FALSE FALSE FALSE FALSE FALSE FALSE ...\n",
      " $ money            : logi  FALSE FALSE FALSE FALSE FALSE FALSE ...\n",
      " $ weapon           : logi  FALSE FALSE FALSE FALSE FALSE FALSE ...\n",
      " $ alcohol          : logi  FALSE FALSE FALSE FALSE FALSE FALSE ...\n",
      " $ drugs            : logi  FALSE FALSE FALSE FALSE FALSE FALSE ...\n"
     ]
    }
   ],
   "source": [
    "str(ps2)"
   ]
  },
  {
   "cell_type": "code",
   "execution_count": 75,
   "metadata": {
    "collapsed": false
   },
   "outputs": [
    {
     "data": {
      "text/plain": [
       " police_department     gender            age               race       \n",
       " Length:626898      Female: 43096   Min.   :  0.00   White   : 57647  \n",
       " Class :character   Male  :583802   1st Qu.: 19.00   Black   :334277  \n",
       " Mode  :character                   Median : 24.00   Hispanic:212280  \n",
       "                                    Mean   : 27.89   Asian   : 22694  \n",
       "                                    3rd Qu.: 34.00                    \n",
       "                                    Max.   :115.00                    \n",
       "   stop_date           stop_time         search_conducted contraband_found\n",
       " Min.   :2011-01-01   Length:626898      Mode :logical    Mode :logical   \n",
       " 1st Qu.:2011-03-25   Class :character   FALSE:572762     FALSE:619606    \n",
       " Median :2011-06-21   Mode  :character   TRUE :54136      TRUE :7292      \n",
       " Mean   :2011-06-26                      NA's :0          NA's :0         \n",
       " 3rd Qu.:2011-09-30                                                       \n",
       " Max.   :2011-12-31                                                       \n",
       "   money           weapon         alcohol          drugs        \n",
       " Mode :logical   Mode :logical   Mode :logical   Mode :logical  \n",
       " FALSE:626874    FALSE:626860    FALSE:626221    FALSE:621586   \n",
       " TRUE :24        TRUE :38        TRUE :677       TRUE :5312     \n",
       " NA's :0         NA's :0         NA's :0         NA's :0        \n",
       "                                                                \n",
       "                                                                "
      ]
     },
     "execution_count": 75,
     "metadata": {},
     "output_type": "execute_result"
    }
   ],
   "source": [
    "summary(ps2)"
   ]
  },
  {
   "cell_type": "code",
   "execution_count": 72,
   "metadata": {
    "collapsed": true
   },
   "outputs": [],
   "source": [
    "ps2$stop_time <- as.character(ps2$stop_time)"
   ]
  },
  {
   "cell_type": "code",
   "execution_count": 77,
   "metadata": {
    "collapsed": true
   },
   "outputs": [],
   "source": [
    "save(ps2, file = \"./nypd2011.RData\")"
   ]
  },
  {
   "cell_type": "code",
   "execution_count": null,
   "metadata": {
    "collapsed": true
   },
   "outputs": [],
   "source": []
  }
 ],
 "metadata": {
  "kernelspec": {
   "display_name": "R",
   "language": "R",
   "name": "ir"
  },
  "language_info": {
   "codemirror_mode": "r",
   "file_extension": ".r",
   "mimetype": "text/x-r-source",
   "name": "R",
   "pygments_lexer": "r",
   "version": "3.2.2"
  }
 },
 "nbformat": 4,
 "nbformat_minor": 0
}
